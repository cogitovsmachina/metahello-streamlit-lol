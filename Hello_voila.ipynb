{
  "nbformat": 4,
  "nbformat_minor": 0,
  "metadata": {
    "colab": {
      "provenance": [],
      "collapsed_sections": [],
      "authorship_tag": "ABX9TyNtQr8BVNr0wc2spguqOrLj",
      "include_colab_link": true
    },
    "kernelspec": {
      "name": "python3",
      "display_name": "Python 3"
    },
    "language_info": {
      "name": "python"
    },
    "widgets": {
      "application/vnd.jupyter.widget-state+json": {
        "25261ca7ec864589b6882e7fa46329fd": {
          "model_module": "@jupyter-widgets/controls",
          "model_name": "VBoxModel",
          "model_module_version": "1.5.0",
          "state": {
            "_dom_classes": [
              "widget-interact"
            ],
            "_model_module": "@jupyter-widgets/controls",
            "_model_module_version": "1.5.0",
            "_model_name": "VBoxModel",
            "_view_count": null,
            "_view_module": "@jupyter-widgets/controls",
            "_view_module_version": "1.5.0",
            "_view_name": "VBoxView",
            "box_style": "",
            "children": [
              "IPY_MODEL_345d9be3482246f88179fb7e0e2539f9",
              "IPY_MODEL_c5de6f64104c480795a89852d96a0fa4",
              "IPY_MODEL_33d4aa82ba7b40eab531f1cc81e36124"
            ],
            "layout": "IPY_MODEL_80617b0d42e84233a07a602fc318d54f"
          }
        },
        "345d9be3482246f88179fb7e0e2539f9": {
          "model_module": "@jupyter-widgets/controls",
          "model_name": "FloatSliderModel",
          "model_module_version": "1.5.0",
          "state": {
            "_dom_classes": [],
            "_model_module": "@jupyter-widgets/controls",
            "_model_module_version": "1.5.0",
            "_model_name": "FloatSliderModel",
            "_view_count": null,
            "_view_module": "@jupyter-widgets/controls",
            "_view_module_version": "1.5.0",
            "_view_name": "FloatSliderView",
            "continuous_update": true,
            "description": "a",
            "description_tooltip": null,
            "disabled": false,
            "layout": "IPY_MODEL_e35087739b1b4329a84e747708a1e219",
            "max": 0,
            "min": -1,
            "orientation": "horizontal",
            "readout": true,
            "readout_format": ".2f",
            "step": 0.1,
            "style": "IPY_MODEL_31503872fdf342429f459c135df30220",
            "value": -0.2
          }
        },
        "c5de6f64104c480795a89852d96a0fa4": {
          "model_module": "@jupyter-widgets/controls",
          "model_name": "FloatSliderModel",
          "model_module_version": "1.5.0",
          "state": {
            "_dom_classes": [],
            "_model_module": "@jupyter-widgets/controls",
            "_model_module_version": "1.5.0",
            "_model_name": "FloatSliderModel",
            "_view_count": null,
            "_view_module": "@jupyter-widgets/controls",
            "_view_module_version": "1.5.0",
            "_view_name": "FloatSliderView",
            "continuous_update": true,
            "description": "f",
            "description_tooltip": null,
            "disabled": false,
            "layout": "IPY_MODEL_73d467bc205a42348acc6e056c2cf2f3",
            "max": 1,
            "min": 0.1,
            "orientation": "horizontal",
            "readout": true,
            "readout_format": ".2f",
            "step": 0.1,
            "style": "IPY_MODEL_86fbda51df5043e3bb6f3fb78ce31ce7",
            "value": 0.2
          }
        },
        "33d4aa82ba7b40eab531f1cc81e36124": {
          "model_module": "@jupyter-widgets/output",
          "model_name": "OutputModel",
          "model_module_version": "1.0.0",
          "state": {
            "_dom_classes": [],
            "_model_module": "@jupyter-widgets/output",
            "_model_module_version": "1.0.0",
            "_model_name": "OutputModel",
            "_view_count": null,
            "_view_module": "@jupyter-widgets/output",
            "_view_module_version": "1.0.0",
            "_view_name": "OutputView",
            "layout": "IPY_MODEL_48d12c37268b4396b36d1036f3cffbae",
            "msg_id": "",
            "outputs": [
              {
                "output_type": "display_data",
                "data": {
                  "text/plain": "<Figure size 432x288 with 1 Axes>",
                  "image/png": "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\n"
                },
                "metadata": {
                  "needs_background": "light"
                }
              }
            ]
          }
        },
        "80617b0d42e84233a07a602fc318d54f": {
          "model_module": "@jupyter-widgets/base",
          "model_name": "LayoutModel",
          "model_module_version": "1.2.0",
          "state": {
            "_model_module": "@jupyter-widgets/base",
            "_model_module_version": "1.2.0",
            "_model_name": "LayoutModel",
            "_view_count": null,
            "_view_module": "@jupyter-widgets/base",
            "_view_module_version": "1.2.0",
            "_view_name": "LayoutView",
            "align_content": null,
            "align_items": null,
            "align_self": null,
            "border": null,
            "bottom": null,
            "display": null,
            "flex": null,
            "flex_flow": null,
            "grid_area": null,
            "grid_auto_columns": null,
            "grid_auto_flow": null,
            "grid_auto_rows": null,
            "grid_column": null,
            "grid_gap": null,
            "grid_row": null,
            "grid_template_areas": null,
            "grid_template_columns": null,
            "grid_template_rows": null,
            "height": null,
            "justify_content": null,
            "justify_items": null,
            "left": null,
            "margin": null,
            "max_height": null,
            "max_width": null,
            "min_height": null,
            "min_width": null,
            "object_fit": null,
            "object_position": null,
            "order": null,
            "overflow": null,
            "overflow_x": null,
            "overflow_y": null,
            "padding": null,
            "right": null,
            "top": null,
            "visibility": null,
            "width": null
          }
        },
        "e35087739b1b4329a84e747708a1e219": {
          "model_module": "@jupyter-widgets/base",
          "model_name": "LayoutModel",
          "model_module_version": "1.2.0",
          "state": {
            "_model_module": "@jupyter-widgets/base",
            "_model_module_version": "1.2.0",
            "_model_name": "LayoutModel",
            "_view_count": null,
            "_view_module": "@jupyter-widgets/base",
            "_view_module_version": "1.2.0",
            "_view_name": "LayoutView",
            "align_content": null,
            "align_items": null,
            "align_self": null,
            "border": null,
            "bottom": null,
            "display": null,
            "flex": null,
            "flex_flow": null,
            "grid_area": null,
            "grid_auto_columns": null,
            "grid_auto_flow": null,
            "grid_auto_rows": null,
            "grid_column": null,
            "grid_gap": null,
            "grid_row": null,
            "grid_template_areas": null,
            "grid_template_columns": null,
            "grid_template_rows": null,
            "height": null,
            "justify_content": null,
            "justify_items": null,
            "left": null,
            "margin": null,
            "max_height": null,
            "max_width": null,
            "min_height": null,
            "min_width": null,
            "object_fit": null,
            "object_position": null,
            "order": null,
            "overflow": null,
            "overflow_x": null,
            "overflow_y": null,
            "padding": null,
            "right": null,
            "top": null,
            "visibility": null,
            "width": null
          }
        },
        "31503872fdf342429f459c135df30220": {
          "model_module": "@jupyter-widgets/controls",
          "model_name": "SliderStyleModel",
          "model_module_version": "1.5.0",
          "state": {
            "_model_module": "@jupyter-widgets/controls",
            "_model_module_version": "1.5.0",
            "_model_name": "SliderStyleModel",
            "_view_count": null,
            "_view_module": "@jupyter-widgets/base",
            "_view_module_version": "1.2.0",
            "_view_name": "StyleView",
            "description_width": "",
            "handle_color": null
          }
        },
        "73d467bc205a42348acc6e056c2cf2f3": {
          "model_module": "@jupyter-widgets/base",
          "model_name": "LayoutModel",
          "model_module_version": "1.2.0",
          "state": {
            "_model_module": "@jupyter-widgets/base",
            "_model_module_version": "1.2.0",
            "_model_name": "LayoutModel",
            "_view_count": null,
            "_view_module": "@jupyter-widgets/base",
            "_view_module_version": "1.2.0",
            "_view_name": "LayoutView",
            "align_content": null,
            "align_items": null,
            "align_self": null,
            "border": null,
            "bottom": null,
            "display": null,
            "flex": null,
            "flex_flow": null,
            "grid_area": null,
            "grid_auto_columns": null,
            "grid_auto_flow": null,
            "grid_auto_rows": null,
            "grid_column": null,
            "grid_gap": null,
            "grid_row": null,
            "grid_template_areas": null,
            "grid_template_columns": null,
            "grid_template_rows": null,
            "height": null,
            "justify_content": null,
            "justify_items": null,
            "left": null,
            "margin": null,
            "max_height": null,
            "max_width": null,
            "min_height": null,
            "min_width": null,
            "object_fit": null,
            "object_position": null,
            "order": null,
            "overflow": null,
            "overflow_x": null,
            "overflow_y": null,
            "padding": null,
            "right": null,
            "top": null,
            "visibility": null,
            "width": null
          }
        },
        "86fbda51df5043e3bb6f3fb78ce31ce7": {
          "model_module": "@jupyter-widgets/controls",
          "model_name": "SliderStyleModel",
          "model_module_version": "1.5.0",
          "state": {
            "_model_module": "@jupyter-widgets/controls",
            "_model_module_version": "1.5.0",
            "_model_name": "SliderStyleModel",
            "_view_count": null,
            "_view_module": "@jupyter-widgets/base",
            "_view_module_version": "1.2.0",
            "_view_name": "StyleView",
            "description_width": "",
            "handle_color": null
          }
        },
        "48d12c37268b4396b36d1036f3cffbae": {
          "model_module": "@jupyter-widgets/base",
          "model_name": "LayoutModel",
          "model_module_version": "1.2.0",
          "state": {
            "_model_module": "@jupyter-widgets/base",
            "_model_module_version": "1.2.0",
            "_model_name": "LayoutModel",
            "_view_count": null,
            "_view_module": "@jupyter-widgets/base",
            "_view_module_version": "1.2.0",
            "_view_name": "LayoutView",
            "align_content": null,
            "align_items": null,
            "align_self": null,
            "border": null,
            "bottom": null,
            "display": null,
            "flex": null,
            "flex_flow": null,
            "grid_area": null,
            "grid_auto_columns": null,
            "grid_auto_flow": null,
            "grid_auto_rows": null,
            "grid_column": null,
            "grid_gap": null,
            "grid_row": null,
            "grid_template_areas": null,
            "grid_template_columns": null,
            "grid_template_rows": null,
            "height": "300px",
            "justify_content": null,
            "justify_items": null,
            "left": null,
            "margin": null,
            "max_height": null,
            "max_width": null,
            "min_height": null,
            "min_width": null,
            "object_fit": null,
            "object_position": null,
            "order": null,
            "overflow": null,
            "overflow_x": null,
            "overflow_y": null,
            "padding": null,
            "right": null,
            "top": null,
            "visibility": null,
            "width": null
          }
        }
      }
    }
  },
  "cells": [
    {
      "cell_type": "markdown",
      "metadata": {
        "id": "view-in-github",
        "colab_type": "text"
      },
      "source": [
        "<a href=\"https://colab.research.google.com/github/cogitovsmachina/metahello-streamlit-lol/blob/main/Hello_voila.ipynb\" target=\"_parent\"><img src=\"https://colab.research.google.com/assets/colab-badge.svg\" alt=\"Open In Colab\"/></a>"
      ]
    },
    {
      "cell_type": "code",
      "execution_count": 1,
      "metadata": {
        "colab": {
          "base_uri": "https://localhost:8080/",
          "height": 381,
          "referenced_widgets": [
            "25261ca7ec864589b6882e7fa46329fd",
            "345d9be3482246f88179fb7e0e2539f9",
            "c5de6f64104c480795a89852d96a0fa4",
            "33d4aa82ba7b40eab531f1cc81e36124",
            "80617b0d42e84233a07a602fc318d54f",
            "e35087739b1b4329a84e747708a1e219",
            "31503872fdf342429f459c135df30220",
            "73d467bc205a42348acc6e056c2cf2f3",
            "86fbda51df5043e3bb6f3fb78ce31ce7",
            "48d12c37268b4396b36d1036f3cffbae"
          ]
        },
        "id": "MwJvlqXSoXUq",
        "outputId": "d7e49b32-cdfe-4045-d444-ba35bfb8b610"
      },
      "outputs": [
        {
          "output_type": "display_data",
          "data": {
            "text/plain": [
              "interactive(children=(FloatSlider(value=-1.0, description='a', max=0.0, min=-1.0), FloatSlider(value=0.55, des…"
            ],
            "application/vnd.jupyter.widget-view+json": {
              "version_major": 2,
              "version_minor": 0,
              "model_id": "25261ca7ec864589b6882e7fa46329fd"
            }
          },
          "metadata": {}
        }
      ],
      "source": [
        "# Voila Web App\n",
        "\n",
        "## A website built out of a Jupyter notebook using Voila\n",
        "\n",
        "import numpy as np\n",
        "import matplotlib.pyplot as plt\n",
        "from ipywidgets import interactive\n",
        "%matplotlib inline\n",
        "\n",
        "def plot_func(a, f):\n",
        "    plt.figure(2)\n",
        "    x = np.linspace(0, 2*np.pi, num=1000)\n",
        "    y = a*np.sin(1/f*x)\n",
        "    plt.plot(x,y)\n",
        "    plt.ylim(-1.1, 1.1)\n",
        "    plt.title('a sin(f)')\n",
        "    plt.show()\n",
        "\n",
        "interactive_plot = interactive(plot_func, a=(-1,0,0.1), f=(0.1, 1))\n",
        "output = interactive_plot.children[-1]\n",
        "output.layout.height = '300px'\n",
        "interactive_plot"
      ]
    }
  ]
}